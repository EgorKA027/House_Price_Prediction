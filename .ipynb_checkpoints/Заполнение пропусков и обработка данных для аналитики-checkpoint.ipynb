{
 "cells": [
  {
   "cell_type": "markdown",
   "id": "b357ff22",
   "metadata": {},
   "source": [
    "# Импорт библиотек"
   ]
  },
  {
   "cell_type": "code",
   "execution_count": 1,
   "id": "daa4afcd",
   "metadata": {},
   "outputs": [],
   "source": [
    "# Работа с данными\n",
    "import pandas as pd\n",
    "import numpy as np\n",
    "\n",
    "# Построение графиков \n",
    "import seaborn as sns\n",
    "import matplotlib.pyplot as plt\n",
    "\n",
    "# Построение моделей\n",
    "from sklearn.linear_model import LinearRegression\n",
    "import statsmodels.api as sm\n",
    "\n",
    "from sklearn.neighbors import KNeighborsRegressor\n",
    "\n",
    "from sklearn.model_selection import train_test_split, cross_val_score\n",
    "from sklearn.metrics import mean_absolute_error, mean_absolute_percentage_error, r2_score\n",
    "\n",
    "\n",
    "plt.style.use('fivethirtyeight')"
   ]
  },
  {
   "cell_type": "markdown",
   "id": "70c26036",
   "metadata": {},
   "source": [
    "# Загрузка набора данных"
   ]
  },
  {
   "cell_type": "code",
   "execution_count": 2,
   "id": "579814da",
   "metadata": {},
   "outputs": [
    {
     "name": "stdout",
     "output_type": "stream",
     "text": [
      "(34775, 18)\n"
     ]
    },
    {
     "data": {
      "text/html": [
       "<div>\n",
       "<style scoped>\n",
       "    .dataframe tbody tr th:only-of-type {\n",
       "        vertical-align: middle;\n",
       "    }\n",
       "\n",
       "    .dataframe tbody tr th {\n",
       "        vertical-align: top;\n",
       "    }\n",
       "\n",
       "    .dataframe thead th {\n",
       "        text-align: right;\n",
       "    }\n",
       "</style>\n",
       "<table border=\"1\" class=\"dataframe\">\n",
       "  <thead>\n",
       "    <tr style=\"text-align: right;\">\n",
       "      <th></th>\n",
       "      <th>Цена</th>\n",
       "      <th>Станция метро</th>\n",
       "      <th>Минут до метро</th>\n",
       "      <th>Адрес</th>\n",
       "      <th>Количество комнат</th>\n",
       "      <th>Площадь</th>\n",
       "      <th>Жилая площадь</th>\n",
       "      <th>Кухня площадь</th>\n",
       "      <th>Этаж</th>\n",
       "      <th>Тип сделки</th>\n",
       "      <th>Материал стен</th>\n",
       "      <th>Количество этажей</th>\n",
       "      <th>Лифт</th>\n",
       "      <th>Ремонт</th>\n",
       "      <th>Ссылка</th>\n",
       "      <th>Год постройки</th>\n",
       "      <th>Количество информации в объявлении</th>\n",
       "      <th>Тип квартиры</th>\n",
       "    </tr>\n",
       "  </thead>\n",
       "  <tbody>\n",
       "    <tr>\n",
       "      <th>0</th>\n",
       "      <td>6300000.0</td>\n",
       "      <td>Опалиха</td>\n",
       "      <td>6.0</td>\n",
       "      <td>Московская область, Красногорский район, Красн...</td>\n",
       "      <td>1.0</td>\n",
       "      <td>30.6</td>\n",
       "      <td>11.1</td>\n",
       "      <td>8.5</td>\n",
       "      <td>25.0</td>\n",
       "      <td>Свободная продажа</td>\n",
       "      <td>Монолитный</td>\n",
       "      <td>25</td>\n",
       "      <td>есть</td>\n",
       "      <td>Косметический</td>\n",
       "      <td>https://www.cian.ru/sale/flat/289238903</td>\n",
       "      <td>NaN</td>\n",
       "      <td>NaN</td>\n",
       "      <td>Вторичное</td>\n",
       "    </tr>\n",
       "    <tr>\n",
       "      <th>1</th>\n",
       "      <td>6850000.0</td>\n",
       "      <td>NaN</td>\n",
       "      <td>NaN</td>\n",
       "      <td>Московская область, Красногорский район, Красн...</td>\n",
       "      <td>1.0</td>\n",
       "      <td>35.6</td>\n",
       "      <td>18.0</td>\n",
       "      <td>7.0</td>\n",
       "      <td>16.0</td>\n",
       "      <td>Свободная продажа</td>\n",
       "      <td>Монолитный</td>\n",
       "      <td>26</td>\n",
       "      <td>есть</td>\n",
       "      <td>Без ремонта</td>\n",
       "      <td>https://www.cian.ru/sale/flat/274781081</td>\n",
       "      <td>NaN</td>\n",
       "      <td>NaN</td>\n",
       "      <td>Вторичное</td>\n",
       "    </tr>\n",
       "    <tr>\n",
       "      <th>2</th>\n",
       "      <td>9000000.0</td>\n",
       "      <td>Павшино</td>\n",
       "      <td>2.0</td>\n",
       "      <td>Московская область, Красногорский район, Красн...</td>\n",
       "      <td>1.0</td>\n",
       "      <td>49.2</td>\n",
       "      <td>20.0</td>\n",
       "      <td>10.0</td>\n",
       "      <td>6.0</td>\n",
       "      <td>Свободная продажа</td>\n",
       "      <td>Кирпичный</td>\n",
       "      <td>15</td>\n",
       "      <td>есть</td>\n",
       "      <td>Евроремонт</td>\n",
       "      <td>https://www.cian.ru/sale/flat/292849723</td>\n",
       "      <td>NaN</td>\n",
       "      <td>NaN</td>\n",
       "      <td>Вторичное</td>\n",
       "    </tr>\n",
       "  </tbody>\n",
       "</table>\n",
       "</div>"
      ],
      "text/plain": [
       "        Цена Станция метро  Минут до метро  \\\n",
       "0  6300000.0       Опалиха             6.0   \n",
       "1  6850000.0           NaN             NaN   \n",
       "2  9000000.0       Павшино             2.0   \n",
       "\n",
       "                                               Адрес  Количество комнат  \\\n",
       "0  Московская область, Красногорский район, Красн...                1.0   \n",
       "1  Московская область, Красногорский район, Красн...                1.0   \n",
       "2  Московская область, Красногорский район, Красн...                1.0   \n",
       "\n",
       "   Площадь  Жилая площадь  Кухня площадь  Этаж         Тип сделки  \\\n",
       "0     30.6           11.1            8.5  25.0  Свободная продажа   \n",
       "1     35.6           18.0            7.0  16.0  Свободная продажа   \n",
       "2     49.2           20.0           10.0   6.0  Свободная продажа   \n",
       "\n",
       "  Материал стен Количество этажей  Лифт         Ремонт  \\\n",
       "0    Монолитный                25  есть  Косметический   \n",
       "1    Монолитный                26  есть    Без ремонта   \n",
       "2     Кирпичный                15  есть     Евроремонт   \n",
       "\n",
       "                                    Ссылка Год постройки  \\\n",
       "0  https://www.cian.ru/sale/flat/289238903           NaN   \n",
       "1  https://www.cian.ru/sale/flat/274781081           NaN   \n",
       "2  https://www.cian.ru/sale/flat/292849723           NaN   \n",
       "\n",
       "   Количество информации в объявлении Тип квартиры  \n",
       "0                                 NaN    Вторичное  \n",
       "1                                 NaN    Вторичное  \n",
       "2                                 NaN    Вторичное  "
      ]
     },
     "execution_count": 2,
     "metadata": {},
     "output_type": "execute_result"
    }
   ],
   "source": [
    "df = pd.read_excel('Цены на недвижимость.xlsx')\n",
    "print(df.shape)\n",
    "df.head(3)"
   ]
  },
  {
   "cell_type": "markdown",
   "id": "ac963ddb",
   "metadata": {},
   "source": [
    "## Удаляем столбцы, которые не будет вводить пользователь"
   ]
  },
  {
   "cell_type": "code",
   "execution_count": 3,
   "id": "08191d5b",
   "metadata": {},
   "outputs": [],
   "source": [
    "df.drop(['Тип сделки',\n",
    "         'Материал стен',\n",
    "         'Лифт',\n",
    "         'Количество информации в объявлении',\n",
    "         'Год постройки'], \n",
    "         axis = 1, inplace = True)"
   ]
  },
  {
   "cell_type": "markdown",
   "id": "3f3e1f67",
   "metadata": {},
   "source": [
    "# Функция для вывода информации о наборе данных"
   ]
  },
  {
   "cell_type": "code",
   "execution_count": 4,
   "id": "b9e52fe4",
   "metadata": {},
   "outputs": [],
   "source": [
    "def info_df(df):\n",
    "    # создаем набор данных\n",
    "    data = pd.DataFrame()\n",
    "    # Создаем индексы\n",
    "    data.index = df.columns\n",
    "    # Узнаем типы данных\n",
    "    data['dtypes'] = df.dtypes\n",
    "    # Количесвто пропущенных значений\n",
    "    data['isna'] = df.isna().sum()\n",
    "    # Процент пропущенных значений\n",
    "    data['isna%'] = round((data['isna'] / df.shape[0])*100, 2)\n",
    "    \n",
    "    # Визуализируем количество пропущенных значений в последнем столбце 'isna%'\n",
    "    return data.style.bar(subset=['isna%'], color='#d65f5f')"
   ]
  },
  {
   "cell_type": "markdown",
   "id": "22ad36da",
   "metadata": {},
   "source": [
    "# Информация о наборе данных df"
   ]
  },
  {
   "cell_type": "code",
   "execution_count": 5,
   "id": "d33dc72b",
   "metadata": {},
   "outputs": [
    {
     "data": {
      "text/html": [
       "<style type=\"text/css\">\n",
       "#T_2d581_row0_col2 {\n",
       "  width: 10em;\n",
       "  background: linear-gradient(90deg, #d65f5f 0.9%, transparent 0.9%);\n",
       "}\n",
       "#T_2d581_row1_col2 {\n",
       "  width: 10em;\n",
       "  background: linear-gradient(90deg, #d65f5f 83.2%, transparent 83.2%);\n",
       "}\n",
       "#T_2d581_row2_col2 {\n",
       "  width: 10em;\n",
       "  background: linear-gradient(90deg, #d65f5f 83.9%, transparent 83.9%);\n",
       "}\n",
       "#T_2d581_row3_col2 {\n",
       "  width: 10em;\n",
       "  background: linear-gradient(90deg, #d65f5f 0.3%, transparent 0.3%);\n",
       "}\n",
       "#T_2d581_row4_col2 {\n",
       "  width: 10em;\n",
       "  background: linear-gradient(90deg, #d65f5f 13.2%, transparent 13.2%);\n",
       "}\n",
       "#T_2d581_row5_col2, #T_2d581_row11_col2, #T_2d581_row12_col2 {\n",
       "  width: 10em;\n",
       "}\n",
       "#T_2d581_row6_col2 {\n",
       "  width: 10em;\n",
       "  background: linear-gradient(90deg, #d65f5f 67.7%, transparent 67.7%);\n",
       "}\n",
       "#T_2d581_row7_col2 {\n",
       "  width: 10em;\n",
       "  background: linear-gradient(90deg, #d65f5f 68.6%, transparent 68.6%);\n",
       "}\n",
       "#T_2d581_row8_col2 {\n",
       "  width: 10em;\n",
       "  background: linear-gradient(90deg, #d65f5f 28.5%, transparent 28.5%);\n",
       "}\n",
       "#T_2d581_row9_col2 {\n",
       "  width: 10em;\n",
       "  background: linear-gradient(90deg, #d65f5f 96.8%, transparent 96.8%);\n",
       "}\n",
       "#T_2d581_row10_col2 {\n",
       "  width: 10em;\n",
       "  background: linear-gradient(90deg, #d65f5f 100.0%, transparent 100.0%);\n",
       "}\n",
       "</style>\n",
       "<table id=\"T_2d581\">\n",
       "  <thead>\n",
       "    <tr>\n",
       "      <th class=\"blank level0\" >&nbsp;</th>\n",
       "      <th id=\"T_2d581_level0_col0\" class=\"col_heading level0 col0\" >dtypes</th>\n",
       "      <th id=\"T_2d581_level0_col1\" class=\"col_heading level0 col1\" >isna</th>\n",
       "      <th id=\"T_2d581_level0_col2\" class=\"col_heading level0 col2\" >isna%</th>\n",
       "    </tr>\n",
       "  </thead>\n",
       "  <tbody>\n",
       "    <tr>\n",
       "      <th id=\"T_2d581_level0_row0\" class=\"row_heading level0 row0\" >Цена</th>\n",
       "      <td id=\"T_2d581_row0_col0\" class=\"data row0 col0\" >float64</td>\n",
       "      <td id=\"T_2d581_row0_col1\" class=\"data row0 col1\" >133</td>\n",
       "      <td id=\"T_2d581_row0_col2\" class=\"data row0 col2\" >0.380000</td>\n",
       "    </tr>\n",
       "    <tr>\n",
       "      <th id=\"T_2d581_level0_row1\" class=\"row_heading level0 row1\" >Станция метро</th>\n",
       "      <td id=\"T_2d581_row1_col0\" class=\"data row1 col0\" >object</td>\n",
       "      <td id=\"T_2d581_row1_col1\" class=\"data row1 col1\" >11865</td>\n",
       "      <td id=\"T_2d581_row1_col2\" class=\"data row1 col2\" >34.120000</td>\n",
       "    </tr>\n",
       "    <tr>\n",
       "      <th id=\"T_2d581_level0_row2\" class=\"row_heading level0 row2\" >Минут до метро</th>\n",
       "      <td id=\"T_2d581_row2_col0\" class=\"data row2 col0\" >float64</td>\n",
       "      <td id=\"T_2d581_row2_col1\" class=\"data row2 col1\" >11964</td>\n",
       "      <td id=\"T_2d581_row2_col2\" class=\"data row2 col2\" >34.400000</td>\n",
       "    </tr>\n",
       "    <tr>\n",
       "      <th id=\"T_2d581_level0_row3\" class=\"row_heading level0 row3\" >Адрес</th>\n",
       "      <td id=\"T_2d581_row3_col0\" class=\"data row3 col0\" >object</td>\n",
       "      <td id=\"T_2d581_row3_col1\" class=\"data row3 col1\" >41</td>\n",
       "      <td id=\"T_2d581_row3_col2\" class=\"data row3 col2\" >0.120000</td>\n",
       "    </tr>\n",
       "    <tr>\n",
       "      <th id=\"T_2d581_level0_row4\" class=\"row_heading level0 row4\" >Количество комнат</th>\n",
       "      <td id=\"T_2d581_row4_col0\" class=\"data row4 col0\" >float64</td>\n",
       "      <td id=\"T_2d581_row4_col1\" class=\"data row4 col1\" >1887</td>\n",
       "      <td id=\"T_2d581_row4_col2\" class=\"data row4 col2\" >5.430000</td>\n",
       "    </tr>\n",
       "    <tr>\n",
       "      <th id=\"T_2d581_level0_row5\" class=\"row_heading level0 row5\" >Площадь</th>\n",
       "      <td id=\"T_2d581_row5_col0\" class=\"data row5 col0\" >float64</td>\n",
       "      <td id=\"T_2d581_row5_col1\" class=\"data row5 col1\" >0</td>\n",
       "      <td id=\"T_2d581_row5_col2\" class=\"data row5 col2\" >0.000000</td>\n",
       "    </tr>\n",
       "    <tr>\n",
       "      <th id=\"T_2d581_level0_row6\" class=\"row_heading level0 row6\" >Жилая площадь</th>\n",
       "      <td id=\"T_2d581_row6_col0\" class=\"data row6 col0\" >float64</td>\n",
       "      <td id=\"T_2d581_row6_col1\" class=\"data row6 col1\" >9653</td>\n",
       "      <td id=\"T_2d581_row6_col2\" class=\"data row6 col2\" >27.760000</td>\n",
       "    </tr>\n",
       "    <tr>\n",
       "      <th id=\"T_2d581_level0_row7\" class=\"row_heading level0 row7\" >Кухня площадь</th>\n",
       "      <td id=\"T_2d581_row7_col0\" class=\"data row7 col0\" >float64</td>\n",
       "      <td id=\"T_2d581_row7_col1\" class=\"data row7 col1\" >9791</td>\n",
       "      <td id=\"T_2d581_row7_col2\" class=\"data row7 col2\" >28.160000</td>\n",
       "    </tr>\n",
       "    <tr>\n",
       "      <th id=\"T_2d581_level0_row8\" class=\"row_heading level0 row8\" >Этаж</th>\n",
       "      <td id=\"T_2d581_row8_col0\" class=\"data row8 col0\" >float64</td>\n",
       "      <td id=\"T_2d581_row8_col1\" class=\"data row8 col1\" >4062</td>\n",
       "      <td id=\"T_2d581_row8_col2\" class=\"data row8 col2\" >11.680000</td>\n",
       "    </tr>\n",
       "    <tr>\n",
       "      <th id=\"T_2d581_level0_row9\" class=\"row_heading level0 row9\" >Количество этажей</th>\n",
       "      <td id=\"T_2d581_row9_col0\" class=\"data row9 col0\" >object</td>\n",
       "      <td id=\"T_2d581_row9_col1\" class=\"data row9 col1\" >13804</td>\n",
       "      <td id=\"T_2d581_row9_col2\" class=\"data row9 col2\" >39.700000</td>\n",
       "    </tr>\n",
       "    <tr>\n",
       "      <th id=\"T_2d581_level0_row10\" class=\"row_heading level0 row10\" >Ремонт</th>\n",
       "      <td id=\"T_2d581_row10_col0\" class=\"data row10 col0\" >object</td>\n",
       "      <td id=\"T_2d581_row10_col1\" class=\"data row10 col1\" >14263</td>\n",
       "      <td id=\"T_2d581_row10_col2\" class=\"data row10 col2\" >41.020000</td>\n",
       "    </tr>\n",
       "    <tr>\n",
       "      <th id=\"T_2d581_level0_row11\" class=\"row_heading level0 row11\" >Ссылка</th>\n",
       "      <td id=\"T_2d581_row11_col0\" class=\"data row11 col0\" >object</td>\n",
       "      <td id=\"T_2d581_row11_col1\" class=\"data row11 col1\" >0</td>\n",
       "      <td id=\"T_2d581_row11_col2\" class=\"data row11 col2\" >0.000000</td>\n",
       "    </tr>\n",
       "    <tr>\n",
       "      <th id=\"T_2d581_level0_row12\" class=\"row_heading level0 row12\" >Тип квартиры</th>\n",
       "      <td id=\"T_2d581_row12_col0\" class=\"data row12 col0\" >object</td>\n",
       "      <td id=\"T_2d581_row12_col1\" class=\"data row12 col1\" >0</td>\n",
       "      <td id=\"T_2d581_row12_col2\" class=\"data row12 col2\" >0.000000</td>\n",
       "    </tr>\n",
       "  </tbody>\n",
       "</table>\n"
      ],
      "text/plain": [
       "<pandas.io.formats.style.Styler at 0x12696bd10>"
      ]
     },
     "execution_count": 5,
     "metadata": {},
     "output_type": "execute_result"
    }
   ],
   "source": [
    "info_df(df)"
   ]
  },
  {
   "cell_type": "markdown",
   "id": "10a0e569",
   "metadata": {},
   "source": [
    "### Работа со столбцами 'Цена' и 'Адрес'"
   ]
  },
  {
   "cell_type": "code",
   "execution_count": 6,
   "id": "053941f5",
   "metadata": {},
   "outputs": [
    {
     "name": "stdout",
     "output_type": "stream",
     "text": [
      "(34642, 13)\n",
      "(34601, 13)\n"
     ]
    }
   ],
   "source": [
    "df = df[df['Цена'].notna()]\n",
    "print(df.shape)\n",
    "\n",
    "df = df[df['Адрес'].notna()]\n",
    "print(df.shape)"
   ]
  },
  {
   "cell_type": "markdown",
   "id": "1e210499",
   "metadata": {},
   "source": [
    "### Работа со столбцом 'Количество комнат'"
   ]
  },
  {
   "cell_type": "code",
   "execution_count": 7,
   "id": "a708b87d",
   "metadata": {},
   "outputs": [],
   "source": [
    "\"\"\"\n",
    "В столбце 'Количество комнат' 1887 пропущенных значений - эти значения - студия, раннее мы кодировали студию как значение 0\n",
    "Поэтому заполним пропущенные значения в столбце 'Количество комнат' - значением 0\n",
    "\"\"\"\n",
    "\n",
    "df.loc[df['Количество комнат'].isna(), 'Количество комнат'] = \\\n",
    "df.loc[df['Количество комнат'].isna(), 'Количество комнат'].fillna(float(0))"
   ]
  },
  {
   "cell_type": "markdown",
   "id": "6c8f51e0",
   "metadata": {},
   "source": [
    "### Работаем со столбцом Адрес"
   ]
  },
  {
   "cell_type": "code",
   "execution_count": 8,
   "id": "5d179821",
   "metadata": {},
   "outputs": [],
   "source": [
    "# Заменяем и выделяем регион (москва или московская область)\n",
    "df['Адрес'] = df['Адрес'].apply(lambda x: x.replace('Россия,', ''))\n",
    "df['Адрес'] = df['Адрес'].apply(lambda x: x.replace('Московская область', 'Московская'))\n",
    "df['Адрес'] = df['Адрес'].apply(lambda x: x.replace(' Московская область', 'Московская'))\n",
    "df['Адрес'] = df['Адрес'].apply(lambda x: x.replace(' Москва', 'Москва'))\n",
    "df['Адрес'] = df['Адрес'].apply(lambda x: x.replace(' Московская', 'Московская'))\n",
    "df['Адрес'] = df['Адрес'].apply(lambda x: x.replace('Московская обл', 'Московская'))\n",
    "df['Адрес'] = df['Адрес'].apply(lambda x: x.replace(',', ' '))\n",
    "df['Адрес'] = df['Адрес'].apply(lambda x: x.replace('гМосква', 'Москва'))\n",
    "df['Адрес'] = df['Адрес'].apply(lambda x: x.replace('Московская.', 'Московская'))\n",
    "df['Адрес'] = df['Адрес'].apply(lambda x: x.replace('городМосква', 'Москва'))\n",
    "df['Адрес'] = df['Адрес'].apply(lambda x: x.replace('Люберецкий', 'Московская'))\n",
    "df['Адрес'] = df['Адрес'].apply(lambda x: x.replace('Котельники', 'Москва'))\n",
    "df['Адрес'] = df['Адрес'].apply(lambda x: x.replace('  ', ' '))"
   ]
  },
  {
   "cell_type": "code",
   "execution_count": 9,
   "id": "f5f069ee",
   "metadata": {},
   "outputs": [],
   "source": [
    "# Новый столбец (Регион)\n",
    "df.insert(3, 'Регион', np.nan)\n",
    "df['Регион'] = df['Адрес'].apply(lambda x: x.split(' ')[0])\n",
    "# Оставляем только значения Москвы и области\n",
    "df = df[(df['Регион'] == 'Московская') | (df['Регион'] == 'Москва')]\n",
    "\n",
    "# Заменяем вместо Московской на Московскую область\n",
    "df['Регион'] = df['Регион'].apply(lambda x: x.replace('Московская', 'Московская область'))"
   ]
  },
  {
   "cell_type": "markdown",
   "id": "8eb78bfb",
   "metadata": {},
   "source": [
    "### Работа со столбом 'Станция метро' и 'Минут до метро'"
   ]
  },
  {
   "cell_type": "code",
   "execution_count": 10,
   "id": "2a3233ed",
   "metadata": {},
   "outputs": [],
   "source": [
    "# Удаляем слово станция для столбца станция метро\n",
    "df['Станция метро'] = df[df['Станция метро'].notna()]['Станция метро'].apply(lambda x: str(x).replace('станция ', ''))"
   ]
  },
  {
   "cell_type": "code",
   "execution_count": 11,
   "id": "7633e00e",
   "metadata": {},
   "outputs": [],
   "source": [
    "# Оставляем только строки, где есть станция метро\n",
    "df = df[df['Станция метро'].notna()]\n",
    "df = df[df['Минут до метро'].notna()]"
   ]
  },
  {
   "cell_type": "markdown",
   "id": "03ceff20",
   "metadata": {},
   "source": [
    "### Работа со столбцами Ремонт"
   ]
  },
  {
   "cell_type": "code",
   "execution_count": 12,
   "id": "37639a72",
   "metadata": {},
   "outputs": [],
   "source": [
    "# Уменьшаем количество уникальных значений (без ремонта)\n",
    "df['Ремонт'] = df[df['Ремонт'].notna()]['Ремонт'].apply(lambda x: str(x).replace('Требует ремонта', 'Без ремонта')\\\n",
    "                                                                          .replace('Отсутствует', 'Без ремонта')\\\n",
    "                                                                          .replace('Под чистовой ремонт', 'Без ремонта')\\\n",
    "                                                                          .replace('no', 'Без ремонта')\\\n",
    "                                                                          .replace('чистовая отделка ', 'Без ремонта')\\\n",
    "                                                                          .replace('Предчистовая отделка', 'Без ремонта')\\\n",
    "                                                                          .replace('Требуется ремонт', 'Без ремонта')\\\n",
    "                                                                          .replace('отделка под чистовую', 'Без ремонта')\\\n",
    "                                                                          .replace('требуется', 'Без ремонта'))"
   ]
  },
  {
   "cell_type": "code",
   "execution_count": 13,
   "id": "2d9a6f12",
   "metadata": {},
   "outputs": [],
   "source": [
    "df['Ремонт'] = df[df['Ремонт'].notna()]['Ремонт'].apply(lambda x: str(x).replace('Евро', 'Евроремонт')\\\n",
    "                                                       .replace('косметический', 'Косметический')\\\n",
    "                                                       .replace('евроремонт', 'Евроремонт')\\\n",
    "                                                       .replace('Хороший', 'Евроремонт')\\\n",
    "                                                       .replace('design', 'Дизайнерский')\\\n",
    "                                                       .replace('Авторский проект', 'Дизайнерский')\\\n",
    "                                                       .replace('euro', 'Евроремонт')\\\n",
    "                                                       .replace('cosmetic', 'Косметический')\\\n",
    "                                                       .replace('чистовая отделка', 'Без ремонта')\\\n",
    "                                                       .replace('Типовой', 'Евроремонт')\\\n",
    "                                                       .replace('с ремонтом', 'Евроремонт')\\\n",
    "                                                       .replace('Евро ремонт', 'Евроремонт')\\\n",
    "                                                       .replace('под ключ', 'Евроремонт'))\n",
    "df['Ремонт'] = df[df['Ремонт'].notna()]['Ремонт'].apply(lambda x: str(x).replace('Евроремонтремонт', 'Евроремонт')\\\n",
    "                                                       .replace('С отделкой', 'Евроремонт')\\\n",
    "                                                       .replace('Частичный ремонт', 'Евроремонт')\\\n",
    "                                                       .replace('Евроремонт ремонт', 'Евроремонт'))"
   ]
  },
  {
   "cell_type": "code",
   "execution_count": 14,
   "id": "f968e4e8",
   "metadata": {},
   "outputs": [
    {
     "data": {
      "text/html": [
       "<div>\n",
       "<style scoped>\n",
       "    .dataframe tbody tr th:only-of-type {\n",
       "        vertical-align: middle;\n",
       "    }\n",
       "\n",
       "    .dataframe tbody tr th {\n",
       "        vertical-align: top;\n",
       "    }\n",
       "\n",
       "    .dataframe thead th {\n",
       "        text-align: right;\n",
       "    }\n",
       "</style>\n",
       "<table border=\"1\" class=\"dataframe\">\n",
       "  <thead>\n",
       "    <tr style=\"text-align: right;\">\n",
       "      <th></th>\n",
       "      <th>Цена</th>\n",
       "    </tr>\n",
       "  </thead>\n",
       "  <tbody>\n",
       "    <tr>\n",
       "      <th>Дизайнерский</th>\n",
       "      <td>97365382.88</td>\n",
       "    </tr>\n",
       "    <tr>\n",
       "      <th>Без ремонта</th>\n",
       "      <td>71663164.87</td>\n",
       "    </tr>\n",
       "    <tr>\n",
       "      <th>Евроремонт</th>\n",
       "      <td>38525704.15</td>\n",
       "    </tr>\n",
       "    <tr>\n",
       "      <th>Косметический</th>\n",
       "      <td>17441710.07</td>\n",
       "    </tr>\n",
       "  </tbody>\n",
       "</table>\n",
       "</div>"
      ],
      "text/plain": [
       "                      Цена\n",
       "Дизайнерский   97365382.88\n",
       "Без ремонта    71663164.87\n",
       "Евроремонт     38525704.15\n",
       "Косметический  17441710.07"
      ]
     },
     "execution_count": 14,
     "metadata": {},
     "output_type": "execute_result"
    }
   ],
   "source": [
    "# Набор для заполнения пропущенных значений\n",
    "repair = df.groupby(['Ремонт']).agg({'Цена': 'mean'})\n",
    "repair.index.name = None\n",
    "repair['Цена'] = repair['Цена'].apply(lambda x: '{:.2f}'.format(x))\n",
    "repair = repair.sort_values(by = 'Цена', ascending = False)\n",
    "repair"
   ]
  },
  {
   "cell_type": "code",
   "execution_count": 15,
   "id": "7101df4b",
   "metadata": {},
   "outputs": [],
   "source": [
    "df.loc[(df['Цена'] >= 0) & (df['Цена'] < 17441710.07), 'Ремонт'] = \\\n",
    "df.loc[(df['Цена'] >= 0) & (df['Цена'] < 17441710.07), 'Ремонт'].fillna('Косметический')\n",
    "\n",
    "df.loc[(df['Цена'] >= 17441710.07) & (df['Цена'] < 38525704.15), 'Ремонт'] = \\\n",
    "df.loc[(df['Цена'] >= 17441710.07) & (df['Цена'] < 38525704.15), 'Ремонт'].fillna('Евроремонт')\n",
    "\n",
    "df.loc[(df['Цена'] >= 38525704.15) & (df['Цена'] < 71663164.87), 'Ремонт'] = \\\n",
    "df.loc[(df['Цена'] >= 38525704.15) & (df['Цена'] < 71663164.87), 'Ремонт'].fillna('Без ремонта')\n",
    "\n",
    "df.loc[(df['Цена'] >= 71663164.87) & (df['Цена'] < 97365382.88), 'Ремонт'] = \\\n",
    "df.loc[(df['Цена'] >= 71663164.87) & (df['Цена'] < 97365382.88), 'Ремонт'].fillna('Дизайнерский')\n",
    "\n",
    "df.loc[(df['Цена'] >= 97365382.88), 'Ремонт'] = \\\n",
    "df.loc[(df['Цена'] >= 97365382.88), 'Ремонт'].fillna('Дизайнерский')"
   ]
  },
  {
   "cell_type": "markdown",
   "id": "59b6b9f9",
   "metadata": {},
   "source": [
    "### Столбцы 'Жилая площадь' и 'Кухня площадь'"
   ]
  },
  {
   "cell_type": "code",
   "execution_count": 16,
   "id": "f825294a",
   "metadata": {},
   "outputs": [
    {
     "data": {
      "text/html": [
       "<div>\n",
       "<style scoped>\n",
       "    .dataframe tbody tr th:only-of-type {\n",
       "        vertical-align: middle;\n",
       "    }\n",
       "\n",
       "    .dataframe tbody tr th {\n",
       "        vertical-align: top;\n",
       "    }\n",
       "\n",
       "    .dataframe thead th {\n",
       "        text-align: right;\n",
       "    }\n",
       "</style>\n",
       "<table border=\"1\" class=\"dataframe\">\n",
       "  <thead>\n",
       "    <tr style=\"text-align: right;\">\n",
       "      <th></th>\n",
       "      <th>Площадь</th>\n",
       "      <th>Жилая площадь</th>\n",
       "      <th>Кухня площадь</th>\n",
       "    </tr>\n",
       "  </thead>\n",
       "  <tbody>\n",
       "    <tr>\n",
       "      <th>0</th>\n",
       "      <td>30.6</td>\n",
       "      <td>11.1</td>\n",
       "      <td>8.5</td>\n",
       "    </tr>\n",
       "    <tr>\n",
       "      <th>2</th>\n",
       "      <td>49.2</td>\n",
       "      <td>20.0</td>\n",
       "      <td>10.0</td>\n",
       "    </tr>\n",
       "    <tr>\n",
       "      <th>3</th>\n",
       "      <td>44.7</td>\n",
       "      <td>16.2</td>\n",
       "      <td>13.1</td>\n",
       "    </tr>\n",
       "  </tbody>\n",
       "</table>\n",
       "</div>"
      ],
      "text/plain": [
       "   Площадь  Жилая площадь  Кухня площадь\n",
       "0     30.6           11.1            8.5\n",
       "2     49.2           20.0           10.0\n",
       "3     44.7           16.2           13.1"
      ]
     },
     "execution_count": 16,
     "metadata": {},
     "output_type": "execute_result"
    }
   ],
   "source": [
    "square = df[['Площадь', 'Жилая площадь', 'Кухня площадь']]\n",
    "square.head(3)"
   ]
  },
  {
   "cell_type": "code",
   "execution_count": 17,
   "id": "d49f1b6e-9d31-4721-8322-ffe97a1e4192",
   "metadata": {},
   "outputs": [
    {
     "data": {
      "image/png": "[encoded data removed]",
      "text/plain": [
       "<Figure size 2000x700 with 2 Axes>"
      ]
     },
     "metadata": {},
     "output_type": "display_data"
    }
   ],
   "source": [
    "plt.subplots(figsize = (20,7))\n",
    "correlation = square.corr()\n",
    "sns.heatmap(correlation, annot = True)\n",
    "plt.title('Матрица корреляции', fontsize = 40, fontweight = 'bold')\n",
    "plt.show()"
   ]
  },
  {
   "cell_type": "markdown",
   "id": "40d3d7e4",
   "metadata": {},
   "source": [
    "    Что бы заполнить признаки Жилая площадь будем использовать модель Линейной регресии\n",
    "    Сосатвим 2 набора данных - обучающий (обучим модель)\n",
    "                             - тестовый (заполим значения nan)"
   ]
  },
  {
   "cell_type": "markdown",
   "id": "efb42dd2",
   "metadata": {},
   "source": [
    "# Заполнение Жилая площадь с помощью LinearRegression"
   ]
  },
  {
   "cell_type": "code",
   "execution_count": 18,
   "id": "e8a55270",
   "metadata": {},
   "outputs": [],
   "source": [
    "# Набор данных для парной линейной регрессии\n",
    "fill_lr = square.drop('Кухня площадь', axis = 1)\n",
    "\n",
    "# Тестовый (для заполнения)\n",
    "test = fill_lr[fill_lr['Жилая площадь'].isna()]\n",
    "\n",
    "# Тренировочный (для трениовки)\n",
    "train = fill_lr[fill_lr['Жилая площадь'].notna()]"
   ]
  },
  {
   "cell_type": "code",
   "execution_count": 19,
   "id": "dee44562",
   "metadata": {},
   "outputs": [],
   "source": [
    "X = train['Площадь']\n",
    "y = train['Жилая площадь']\n",
    "\n",
    "# Для sklearn LinearRegression\n",
    "X_train, X_test, y_train, y_test = train_test_split(X,y, test_size = 0.3, random_state=42)"
   ]
  },
  {
   "cell_type": "code",
   "execution_count": 20,
   "id": "f59a9cc0",
   "metadata": {},
   "outputs": [
    {
     "name": "stdout",
     "output_type": "stream",
     "text": [
      "                            OLS Regression Results                            \n",
      "==============================================================================\n",
      "Dep. Variable:          Жилая площадь   R-squared:                       0.738\n",
      "Model:                            OLS   Adj. R-squared:                  0.737\n",
      "Method:                 Least Squares   F-statistic:                 4.323e+04\n",
      "Date:                Wed, 08 Nov 2023   Prob (F-statistic):               0.00\n",
      "Time:                        21:52:46   Log-Likelihood:                -67570.\n",
      "No. Observations:               15389   AIC:                         1.351e+05\n",
      "Df Residuals:                   15387   BIC:                         1.352e+05\n",
      "Df Model:                           1                                         \n",
      "Covariance Type:            nonrobust                                         \n",
      "==============================================================================\n",
      "                 coef    std err          t      P>|t|      [0.025      0.975]\n",
      "------------------------------------------------------------------------------\n",
      "const          2.1347      0.234      9.122      0.000       1.676       2.593\n",
      "Площадь        0.5055      0.002    207.927      0.000       0.501       0.510\n",
      "==============================================================================\n",
      "Omnibus:                    11852.083   Durbin-Watson:                   1.777\n",
      "Prob(Omnibus):                  0.000   Jarque-Bera (JB):          1750807.056\n",
      "Skew:                          -2.890   Prob(JB):                         0.00\n",
      "Kurtosis:                      54.933   Cond. No.                         143.\n",
      "==============================================================================\n",
      "\n",
      "Notes:\n",
      "[1] Standard Errors assume that the covariance matrix of the errors is correctly specified.\n"
     ]
    }
   ],
   "source": [
    "# Построим модель линейной регрессии через statsmodel.api\n",
    "\n",
    "X = sm.add_constant(X)\n",
    "model = sm.OLS(y, X)\n",
    "res = model.fit()\n",
    "\n",
    "print(res.summary())"
   ]
  },
  {
   "cell_type": "code",
   "execution_count": 21,
   "id": "5e12a4b3",
   "metadata": {},
   "outputs": [
    {
     "name": "stdout",
     "output_type": "stream",
     "text": [
      "const      2.134668\n",
      "Площадь    0.505550\n",
      "dtype: float64\n"
     ]
    }
   ],
   "source": [
    "print(res.params)"
   ]
  },
  {
   "cell_type": "markdown",
   "id": "7d8809f8",
   "metadata": {},
   "source": [
    "    Коэффициент детерминации (R-squared) - равен 0.738, то есть данная формула объясняет 73% дисперсии\n",
    "    Коэффициенты - intercept = 2.1347, то есть при нулевой площади значений жилой площадт будет равно 2.1347\n",
    "                   Площадь - 0.5055 - то есть жилая площадь равна половине общей площади квартиры\n",
    "                   \n",
    "    Построим модель линейной регрессии, визуализируем результаты предсказания"
   ]
  },
  {
   "cell_type": "markdown",
   "id": "f5f6381a",
   "metadata": {},
   "source": [
    "### Оценка модели линейной регрессии + построение sklearn LinearRegression"
   ]
  },
  {
   "cell_type": "code",
   "execution_count": 22,
   "id": "f4ec5192",
   "metadata": {},
   "outputs": [
    {
     "data": {
      "text/html": [
       "<style>#sk-container-id-1 {color: black;}#sk-container-id-1 pre{padding: 0;}#sk-container-id-1 div.sk-toggleable {background-color: white;}#sk-container-id-1 label.sk-toggleable__label {cursor: pointer;display: block;width: 100%;margin-bottom: 0;padding: 0.3em;box-sizing: border-box;text-align: center;}#sk-container-id-1 label.sk-toggleable__label-arrow:before {content: \"▸\";float: left;margin-right: 0.25em;color: #696969;}#sk-container-id-1 label.sk-toggleable__label-arrow:hover:before {color: black;}#sk-container-id-1 div.sk-estimator:hover label.sk-toggleable__label-arrow:before {color: black;}#sk-container-id-1 div.sk-toggleable__content {max-height: 0;max-width: 0;overflow: hidden;text-align: left;background-color: #f0f8ff;}#sk-container-id-1 div.sk-toggleable__content pre {margin: 0.2em;color: black;border-radius: 0.25em;background-color: #f0f8ff;}#sk-container-id-1 input.sk-toggleable__control:checked~div.sk-toggleable__content {max-height: 200px;max-width: 100%;overflow: auto;}#sk-container-id-1 input.sk-toggleable__control:checked~label.sk-toggleable__label-arrow:before {content: \"▾\";}#sk-container-id-1 div.sk-estimator input.sk-toggleable__control:checked~label.sk-toggleable__label {background-color: #d4ebff;}#sk-container-id-1 div.sk-label input.sk-toggleable__control:checked~label.sk-toggleable__label {background-color: #d4ebff;}#sk-container-id-1 input.sk-hidden--visually {border: 0;clip: rect(1px 1px 1px 1px);clip: rect(1px, 1px, 1px, 1px);height: 1px;margin: -1px;overflow: hidden;padding: 0;position: absolute;width: 1px;}#sk-container-id-1 div.sk-estimator {font-family: monospace;background-color: #f0f8ff;border: 1px dotted black;border-radius: 0.25em;box-sizing: border-box;margin-bottom: 0.5em;}#sk-container-id-1 div.sk-estimator:hover {background-color: #d4ebff;}#sk-container-id-1 div.sk-parallel-item::after {content: \"\";width: 100%;border-bottom: 1px solid gray;flex-grow: 1;}#sk-container-id-1 div.sk-label:hover label.sk-toggleable__label {background-color: #d4ebff;}#sk-container-id-1 div.sk-serial::before {content: \"\";position: absolute;border-left: 1px solid gray;box-sizing: border-box;top: 0;bottom: 0;left: 50%;z-index: 0;}#sk-container-id-1 div.sk-serial {display: flex;flex-direction: column;align-items: center;background-color: white;padding-right: 0.2em;padding-left: 0.2em;position: relative;}#sk-container-id-1 div.sk-item {position: relative;z-index: 1;}#sk-container-id-1 div.sk-parallel {display: flex;align-items: stretch;justify-content: center;background-color: white;position: relative;}#sk-container-id-1 div.sk-item::before, #sk-container-id-1 div.sk-parallel-item::before {content: \"\";position: absolute;border-left: 1px solid gray;box-sizing: border-box;top: 0;bottom: 0;left: 50%;z-index: -1;}#sk-container-id-1 div.sk-parallel-item {display: flex;flex-direction: column;z-index: 1;position: relative;background-color: white;}#sk-container-id-1 div.sk-parallel-item:first-child::after {align-self: flex-end;width: 50%;}#sk-container-id-1 div.sk-parallel-item:last-child::after {align-self: flex-start;width: 50%;}#sk-container-id-1 div.sk-parallel-item:only-child::after {width: 0;}#sk-container-id-1 div.sk-dashed-wrapped {border: 1px dashed gray;margin: 0 0.4em 0.5em 0.4em;box-sizing: border-box;padding-bottom: 0.4em;background-color: white;}#sk-container-id-1 div.sk-label label {font-family: monospace;font-weight: bold;display: inline-block;line-height: 1.2em;}#sk-container-id-1 div.sk-label-container {text-align: center;}#sk-container-id-1 div.sk-container {/* jupyter's `normalize.less` sets `[hidden] { display: none; }` but bootstrap.min.css set `[hidden] { display: none !important; }` so we also need the `!important` here to be able to override the default hidden behavior on the sphinx rendered scikit-learn.org. See: https://github.com/scikit-learn/scikit-learn/issues/21755 */display: inline-block !important;position: relative;}#sk-container-id-1 div.sk-text-repr-fallback {display: none;}</style><div id=\"sk-container-id-1\" class=\"sk-top-container\"><div class=\"sk-text-repr-fallback\"><pre>LinearRegression()</pre><b>In a Jupyter environment, please rerun this cell to show the HTML representation or trust the notebook. <br />On GitHub, the HTML representation is unable to render, please try loading this page with nbviewer.org.</b></div><div class=\"sk-container\" hidden><div class=\"sk-item\"><div class=\"sk-estimator sk-toggleable\"><input class=\"sk-toggleable__control sk-hidden--visually\" id=\"sk-estimator-id-1\" type=\"checkbox\" checked><label for=\"sk-estimator-id-1\" class=\"sk-toggleable__label sk-toggleable__label-arrow\">LinearRegression</label><div class=\"sk-toggleable__content\"><pre>LinearRegression()</pre></div></div></div></div></div>"
      ],
      "text/plain": [
       "LinearRegression()"
      ]
     },
     "execution_count": 22,
     "metadata": {},
     "output_type": "execute_result"
    }
   ],
   "source": [
    "# Добавляем столбец с константой (1)\n",
    "X_train = sm.add_constant(X_train)\n",
    "X_test = sm.add_constant(X_test)\n",
    "\n",
    "# Обозначаем модель линейной регрессии\n",
    "lr = LinearRegression()\n",
    "\n",
    "# Тренируем модель линейной регрессии\n",
    "lr.fit(X_train, y_train)"
   ]
  },
  {
   "cell_type": "code",
   "execution_count": 23,
   "id": "0e54bea3",
   "metadata": {},
   "outputs": [
    {
     "name": "stdout",
     "output_type": "stream",
     "text": [
      "Коэффициенты регрессии: [0.         0.49286839]\n",
      "Свободный член (intercept): 2.9008955870414326\n"
     ]
    }
   ],
   "source": [
    "# Получаем коэффициенты регрессии (веса) и свободный член (intercept)\n",
    "coefficients = lr.coef_\n",
    "intercept = lr.intercept_\n",
    "\n",
    "print(\"Коэффициенты регрессии:\", coefficients)\n",
    "print(\"Свободный член (intercept):\", intercept)"
   ]
  },
  {
   "cell_type": "markdown",
   "id": "9994500a",
   "metadata": {},
   "source": [
    "    Коэффициенты регрессии и intercept практически совпадают с той моделью, которую мы построили с помощью statsmodel.api\n",
    "    Различия могут быть из за того, что предыдущую модель мы обучали на полном наборе данных, а здесь, для того, чтобы проверить метрики (и визуализировать результаты предсказания) мы использовали только 70% данных\n",
    "    Далее после оценки, мы дотренируем модель в sklearn на полном наборе данных и заменим NaN в основном наборе данных"
   ]
  },
  {
   "cell_type": "code",
   "execution_count": 24,
   "id": "f429b4dc",
   "metadata": {},
   "outputs": [
    {
     "name": "stdout",
     "output_type": "stream",
     "text": [
      "MAE:  9.596477867499145\n",
      "MAPE:  34.67\n",
      "R2: 0.7734153011785508\n"
     ]
    }
   ],
   "source": [
    "train_pred = lr.predict(X_test)\n",
    "\n",
    "# Метрики для проверки качества модели\n",
    "mae = mean_absolute_error(y_test, train_pred)\n",
    "mape = mean_absolute_percentage_error(y_test, train_pred)\n",
    "r2 = r2_score(y_test, train_pred)\n",
    "print('MAE: ', mae)\n",
    "print('MAPE: ', round(mape * 100,2))\n",
    "print('R2:', r2)"
   ]
  },
  {
   "cell_type": "markdown",
   "id": "90cea5e8",
   "metadata": {},
   "source": [
    "    Отклонение от фактического значения - 9, то есть в среднем предсказаное значение от фактического отличается на 9 (MAE)\n",
    "    В среднем значение отклоняется на 34% (MAPE)\n",
    "    Коэффициент детерминации (R2) равен 0.77 то есть данная формула описывает 77% дисперсии данных"
   ]
  },
  {
   "cell_type": "code",
   "execution_count": 25,
   "id": "6990dd6f",
   "metadata": {},
   "outputs": [
    {
     "data": {
      "image/png": "[encoded data removed]",
      "text/plain": [
       "<Figure size 2000x1200 with 1 Axes>"
      ]
     },
     "metadata": {},
     "output_type": "display_data"
    }
   ],
   "source": [
    "plt.subplots(figsize = (20,12))\n",
    "\n",
    "sns.kdeplot(y_test, label='Фактические значения')\n",
    "sns.kdeplot(train_pred, label='Предсказаные значения')\n",
    "\n",
    "plt.title('Распределение фактических и предсказанных значения', fontsize = 40, fontweight = 'bold')\n",
    "plt.ylabel('Плотность')\n",
    "plt.legend()\n",
    "plt.xticks(range(0,401,25))\n",
    "plt.show()"
   ]
  },
  {
   "cell_type": "markdown",
   "id": "c0368a3c",
   "metadata": {},
   "source": [
    "    Модель линейной регрессии больше смещена вправо \n",
    "    То есть как видно по диаграмме у фактических значений высокая плотность вероятности в диапазоне от 0 до 50 \n",
    "    А высокая плотность вероятности у предсказаных значений в диапазоне от 15 до 75\n",
    "    Следовательно значения больше смещены вправо\n",
    "    \n",
    "    Так же стоит заметить что тут логнормальное распределение (следовательно можно логарифмировать данные, чтобы привести их ближе к нормальному виду)\n",
    "    Эту операцию уже будем делать с основным набором данных\n",
    "    \n",
    "    Далее натренируем модель на полном наборе данных и заполним пропуски используя натренированную модель линейной регрессии"
   ]
  },
  {
   "cell_type": "markdown",
   "id": "ae09dae8",
   "metadata": {},
   "source": [
    "### Дотренировываем модель на полном наборе данных"
   ]
  },
  {
   "cell_type": "code",
   "execution_count": 26,
   "id": "8ad1564b-80d4-4d56-be04-a4fbc71e1608",
   "metadata": {},
   "outputs": [
    {
     "data": {
      "text/html": [
       "<style>#sk-container-id-2 {color: black;}#sk-container-id-2 pre{padding: 0;}#sk-container-id-2 div.sk-toggleable {background-color: white;}#sk-container-id-2 label.sk-toggleable__label {cursor: pointer;display: block;width: 100%;margin-bottom: 0;padding: 0.3em;box-sizing: border-box;text-align: center;}#sk-container-id-2 label.sk-toggleable__label-arrow:before {content: \"▸\";float: left;margin-right: 0.25em;color: #696969;}#sk-container-id-2 label.sk-toggleable__label-arrow:hover:before {color: black;}#sk-container-id-2 div.sk-estimator:hover label.sk-toggleable__label-arrow:before {color: black;}#sk-container-id-2 div.sk-toggleable__content {max-height: 0;max-width: 0;overflow: hidden;text-align: left;background-color: #f0f8ff;}#sk-container-id-2 div.sk-toggleable__content pre {margin: 0.2em;color: black;border-radius: 0.25em;background-color: #f0f8ff;}#sk-container-id-2 input.sk-toggleable__control:checked~div.sk-toggleable__content {max-height: 200px;max-width: 100%;overflow: auto;}#sk-container-id-2 input.sk-toggleable__control:checked~label.sk-toggleable__label-arrow:before {content: \"▾\";}#sk-container-id-2 div.sk-estimator input.sk-toggleable__control:checked~label.sk-toggleable__label {background-color: #d4ebff;}#sk-container-id-2 div.sk-label input.sk-toggleable__control:checked~label.sk-toggleable__label {background-color: #d4ebff;}#sk-container-id-2 input.sk-hidden--visually {border: 0;clip: rect(1px 1px 1px 1px);clip: rect(1px, 1px, 1px, 1px);height: 1px;margin: -1px;overflow: hidden;padding: 0;position: absolute;width: 1px;}#sk-container-id-2 div.sk-estimator {font-family: monospace;background-color: #f0f8ff;border: 1px dotted black;border-radius: 0.25em;box-sizing: border-box;margin-bottom: 0.5em;}#sk-container-id-2 div.sk-estimator:hover {background-color: #d4ebff;}#sk-container-id-2 div.sk-parallel-item::after {content: \"\";width: 100%;border-bottom: 1px solid gray;flex-grow: 1;}#sk-container-id-2 div.sk-label:hover label.sk-toggleable__label {background-color: #d4ebff;}#sk-container-id-2 div.sk-serial::before {content: \"\";position: absolute;border-left: 1px solid gray;box-sizing: border-box;top: 0;bottom: 0;left: 50%;z-index: 0;}#sk-container-id-2 div.sk-serial {display: flex;flex-direction: column;align-items: center;background-color: white;padding-right: 0.2em;padding-left: 0.2em;position: relative;}#sk-container-id-2 div.sk-item {position: relative;z-index: 1;}#sk-container-id-2 div.sk-parallel {display: flex;align-items: stretch;justify-content: center;background-color: white;position: relative;}#sk-container-id-2 div.sk-item::before, #sk-container-id-2 div.sk-parallel-item::before {content: \"\";position: absolute;border-left: 1px solid gray;box-sizing: border-box;top: 0;bottom: 0;left: 50%;z-index: -1;}#sk-container-id-2 div.sk-parallel-item {display: flex;flex-direction: column;z-index: 1;position: relative;background-color: white;}#sk-container-id-2 div.sk-parallel-item:first-child::after {align-self: flex-end;width: 50%;}#sk-container-id-2 div.sk-parallel-item:last-child::after {align-self: flex-start;width: 50%;}#sk-container-id-2 div.sk-parallel-item:only-child::after {width: 0;}#sk-container-id-2 div.sk-dashed-wrapped {border: 1px dashed gray;margin: 0 0.4em 0.5em 0.4em;box-sizing: border-box;padding-bottom: 0.4em;background-color: white;}#sk-container-id-2 div.sk-label label {font-family: monospace;font-weight: bold;display: inline-block;line-height: 1.2em;}#sk-container-id-2 div.sk-label-container {text-align: center;}#sk-container-id-2 div.sk-container {/* jupyter's `normalize.less` sets `[hidden] { display: none; }` but bootstrap.min.css set `[hidden] { display: none !important; }` so we also need the `!important` here to be able to override the default hidden behavior on the sphinx rendered scikit-learn.org. See: https://github.com/scikit-learn/scikit-learn/issues/21755 */display: inline-block !important;position: relative;}#sk-container-id-2 div.sk-text-repr-fallback {display: none;}</style><div id=\"sk-container-id-2\" class=\"sk-top-container\"><div class=\"sk-text-repr-fallback\"><pre>LinearRegression()</pre><b>In a Jupyter environment, please rerun this cell to show the HTML representation or trust the notebook. <br />On GitHub, the HTML representation is unable to render, please try loading this page with nbviewer.org.</b></div><div class=\"sk-container\" hidden><div class=\"sk-item\"><div class=\"sk-estimator sk-toggleable\"><input class=\"sk-toggleable__control sk-hidden--visually\" id=\"sk-estimator-id-2\" type=\"checkbox\" checked><label for=\"sk-estimator-id-2\" class=\"sk-toggleable__label sk-toggleable__label-arrow\">LinearRegression</label><div class=\"sk-toggleable__content\"><pre>LinearRegression()</pre></div></div></div></div></div>"
      ],
      "text/plain": [
       "LinearRegression()"
      ]
     },
     "execution_count": 26,
     "metadata": {},
     "output_type": "execute_result"
    }
   ],
   "source": [
    "lr.fit(X,y)"
   ]
  },
  {
   "cell_type": "markdown",
   "id": "e017e257",
   "metadata": {},
   "source": [
    "### Заполняем пропуски в столбце Жилая площадь"
   ]
  },
  {
   "cell_type": "code",
   "execution_count": 27,
   "id": "cbf6c6fe-0648-4dd8-a7eb-e6dd19e2729e",
   "metadata": {},
   "outputs": [],
   "source": [
    "X_test = test['Площадь']\n",
    "X_test = sm.add_constant(X_test)\n",
    "test_pred = lr.predict(X_test)"
   ]
  },
  {
   "cell_type": "code",
   "execution_count": 28,
   "id": "6354ccea-5f04-46c5-a048-a2ecba4510a0",
   "metadata": {},
   "outputs": [
    {
     "name": "stderr",
     "output_type": "stream",
     "text": [
      "/var/folders/x7/138qqsld2772kl43pjld3lhh0000gn/T/ipykernel_11348/124938575.py:1: SettingWithCopyWarning: \n",
      "A value is trying to be set on a copy of a slice from a DataFrame.\n",
      "Try using .loc[row_indexer,col_indexer] = value instead\n",
      "\n",
      "See the caveats in the documentation: https://pandas.pydata.org/pandas-docs/stable/user_guide/indexing.html#returning-a-view-versus-a-copy\n",
      "  test['Жилая площадь'] = test_pred\n",
      "/var/folders/x7/138qqsld2772kl43pjld3lhh0000gn/T/ipykernel_11348/124938575.py:2: SettingWithCopyWarning: \n",
      "A value is trying to be set on a copy of a slice from a DataFrame.\n",
      "Try using .loc[row_indexer,col_indexer] = value instead\n",
      "\n",
      "See the caveats in the documentation: https://pandas.pydata.org/pandas-docs/stable/user_guide/indexing.html#returning-a-view-versus-a-copy\n",
      "  test['Жилая площадь'] = round(test['Жилая площадь'],1)\n"
     ]
    },
    {
     "data": {
      "text/html": [
       "<div>\n",
       "<style scoped>\n",
       "    .dataframe tbody tr th:only-of-type {\n",
       "        vertical-align: middle;\n",
       "    }\n",
       "\n",
       "    .dataframe tbody tr th {\n",
       "        vertical-align: top;\n",
       "    }\n",
       "\n",
       "    .dataframe thead th {\n",
       "        text-align: right;\n",
       "    }\n",
       "</style>\n",
       "<table border=\"1\" class=\"dataframe\">\n",
       "  <thead>\n",
       "    <tr style=\"text-align: right;\">\n",
       "      <th></th>\n",
       "      <th>Площадь</th>\n",
       "      <th>Жилая площадь</th>\n",
       "    </tr>\n",
       "  </thead>\n",
       "  <tbody>\n",
       "    <tr>\n",
       "      <th>8</th>\n",
       "      <td>25.0</td>\n",
       "      <td>14.8</td>\n",
       "    </tr>\n",
       "    <tr>\n",
       "      <th>12</th>\n",
       "      <td>39.0</td>\n",
       "      <td>21.9</td>\n",
       "    </tr>\n",
       "    <tr>\n",
       "      <th>17</th>\n",
       "      <td>32.1</td>\n",
       "      <td>18.4</td>\n",
       "    </tr>\n",
       "  </tbody>\n",
       "</table>\n",
       "</div>"
      ],
      "text/plain": [
       "    Площадь  Жилая площадь\n",
       "8      25.0           14.8\n",
       "12     39.0           21.9\n",
       "17     32.1           18.4"
      ]
     },
     "execution_count": 28,
     "metadata": {},
     "output_type": "execute_result"
    }
   ],
   "source": [
    "test['Жилая площадь'] = test_pred\n",
    "test['Жилая площадь'] = round(test['Жилая площадь'],1)\n",
    "test.head(3)"
   ]
  },
  {
   "cell_type": "code",
   "execution_count": 29,
   "id": "b5d12a5b-d39b-4eb4-967a-abd397f29df1",
   "metadata": {},
   "outputs": [],
   "source": [
    "fill_values = test['Жилая площадь'].to_dict()\n",
    "\n",
    "for index, value in fill_values.items():\n",
    "    df.at[index, 'Жилая площадь'] = value"
   ]
  },
  {
   "cell_type": "code",
   "execution_count": 30,
   "id": "19e42dee-aebc-4605-8533-8ddf7209a747",
   "metadata": {},
   "outputs": [
    {
     "data": {
      "text/plain": [
       "0"
      ]
     },
     "execution_count": 30,
     "metadata": {},
     "output_type": "execute_result"
    }
   ],
   "source": [
    "df['Жилая площадь'].isna().sum()"
   ]
  },
  {
   "cell_type": "markdown",
   "id": "9bcffb1a-3959-420c-8c51-49366a3edb93",
   "metadata": {},
   "source": [
    "    После проделанных операций мы заполнили все значения NaN в столбце Жилая площадь\n",
    "    Далее проделаем те же операции со столбом Кухня площадь"
   ]
  },
  {
   "cell_type": "markdown",
   "id": "8c34385b-74f7-4423-893e-21d21a684bd0",
   "metadata": {},
   "source": [
    "## Заполнение Кухня площадь"
   ]
  },
  {
   "cell_type": "code",
   "execution_count": 31,
   "id": "b655966b-4ffb-4a35-a6b5-3d2f9a77397e",
   "metadata": {},
   "outputs": [],
   "source": [
    "# Набор данных для заполнения пропусков\n",
    "test = df[df['Кухня площадь'].isna()][['Площадь','Кухня площадь']]\n",
    "\n",
    "# Набор данных для тренировки модели (чтобы заполнить пропуски в данных\n",
    "train = df[df['Кухня площадь'].notna()][['Площадь','Кухня площадь']]"
   ]
  },
  {
   "cell_type": "code",
   "execution_count": 32,
   "id": "bf09fb85-675b-4423-9723-26a5e65fed12",
   "metadata": {},
   "outputs": [
    {
     "data": {
      "text/html": [
       "<div>\n",
       "<style scoped>\n",
       "    .dataframe tbody tr th:only-of-type {\n",
       "        vertical-align: middle;\n",
       "    }\n",
       "\n",
       "    .dataframe tbody tr th {\n",
       "        vertical-align: top;\n",
       "    }\n",
       "\n",
       "    .dataframe thead th {\n",
       "        text-align: right;\n",
       "    }\n",
       "</style>\n",
       "<table border=\"1\" class=\"dataframe\">\n",
       "  <thead>\n",
       "    <tr style=\"text-align: right;\">\n",
       "      <th></th>\n",
       "      <th>Площадь</th>\n",
       "      <th>Кухня площадь</th>\n",
       "    </tr>\n",
       "  </thead>\n",
       "  <tbody>\n",
       "    <tr>\n",
       "      <th>Площадь</th>\n",
       "      <td>1.000000</td>\n",
       "      <td>0.615047</td>\n",
       "    </tr>\n",
       "    <tr>\n",
       "      <th>Кухня площадь</th>\n",
       "      <td>0.615047</td>\n",
       "      <td>1.000000</td>\n",
       "    </tr>\n",
       "  </tbody>\n",
       "</table>\n",
       "</div>"
      ],
      "text/plain": [
       "                Площадь  Кухня площадь\n",
       "Площадь        1.000000       0.615047\n",
       "Кухня площадь  0.615047       1.000000"
      ]
     },
     "execution_count": 32,
     "metadata": {},
     "output_type": "execute_result"
    }
   ],
   "source": [
    "train.corr()"
   ]
  },
  {
   "cell_type": "markdown",
   "id": "bea49ac6-79d1-40a8-bf24-328ec523ec76",
   "metadata": {},
   "source": [
    "    Корреляция между площадью и площадью кухни не такая большая (0.61), но линейная связь между переменными есть, и связь между переменными положительная (то есть при увличении общей площади, будет увеличиваться площадь кухни, что лигично из предметной области) "
   ]
  },
  {
   "cell_type": "code",
   "execution_count": 33,
   "id": "3dc2d3b6-58de-44e7-800c-d514dd68d157",
   "metadata": {},
   "outputs": [
    {
     "data": {
      "image/png": "[encoded data removed]",
      "text/plain": [
       "<Figure size 640x480 with 1 Axes>"
      ]
     },
     "metadata": {},
     "output_type": "display_data"
    }
   ],
   "source": [
    "sns.scatterplot(data = train,\n",
    "                x = 'Кухня площадь',\n",
    "                y  = 'Площадь')\n",
    "plt.show()"
   ]
  },
  {
   "cell_type": "code",
   "execution_count": 34,
   "id": "d6627935-8ac6-4773-9d74-f6de0b0c44f5",
   "metadata": {},
   "outputs": [],
   "source": [
    "X = train['Площадь']\n",
    "y = train['Кухня площадь']"
   ]
  },
  {
   "cell_type": "code",
   "execution_count": 35,
   "id": "54b43306-c35b-46da-8881-23730c1aeb82",
   "metadata": {},
   "outputs": [
    {
     "name": "stdout",
     "output_type": "stream",
     "text": [
      "                            OLS Regression Results                            \n",
      "==============================================================================\n",
      "Dep. Variable:          Кухня площадь   R-squared:                       0.378\n",
      "Model:                            OLS   Adj. R-squared:                  0.378\n",
      "Method:                 Least Squares   F-statistic:                     9004.\n",
      "Date:                Wed, 08 Nov 2023   Prob (F-statistic):               0.00\n",
      "Time:                        21:52:57   Log-Likelihood:                -48745.\n",
      "No. Observations:               14801   AIC:                         9.749e+04\n",
      "Df Residuals:                   14799   BIC:                         9.751e+04\n",
      "Df Model:                           1                                         \n",
      "Covariance Type:            nonrobust                                         \n",
      "==============================================================================\n",
      "                 coef    std err          t      P>|t|      [0.025      0.975]\n",
      "------------------------------------------------------------------------------\n",
      "const          6.6396      0.082     81.118      0.000       6.479       6.800\n",
      "Площадь        0.0827      0.001     94.892      0.000       0.081       0.084\n",
      "==============================================================================\n",
      "Omnibus:                     7926.692   Durbin-Watson:                   1.592\n",
      "Prob(Omnibus):                  0.000   Jarque-Bera (JB):           151809.992\n",
      "Skew:                           2.151   Prob(JB):                         0.00\n",
      "Kurtosis:                      18.088   Cond. No.                         143.\n",
      "==============================================================================\n",
      "\n",
      "Notes:\n",
      "[1] Standard Errors assume that the covariance matrix of the errors is correctly specified.\n"
     ]
    }
   ],
   "source": [
    "X = sm.add_constant(X)\n",
    "model = sm.OLS(y, X)\n",
    "res = model.fit()\n",
    "\n",
    "print(res.summary())"
   ]
  },
  {
   "cell_type": "markdown",
   "id": "d0d7c9d1-47f8-4db2-a34d-3b0ab8c5d225",
   "metadata": {},
   "source": [
    "    После построения линейной регрессии мы получили коффициент детерминации 0.378, что означает что формула объясняет 37 процентов вариации в данных\n",
    "    Так же по формуле можно сказать, что прощаь кухни составляет 8 процентов от общей площади (так как формула площади кухни будет приведена ниже)\n",
    "    Плозадь кухни \n",
    "    y = 6.64 + 0.0827x (где x - это площадь комнаты)\n",
    "    "
   ]
  },
  {
   "cell_type": "code",
   "execution_count": 36,
   "id": "9c45ad73-ea80-4cde-ba92-9c64e4e2dabe",
   "metadata": {},
   "outputs": [
    {
     "data": {
      "text/plain": [
       "const      6.639608\n",
       "Площадь    0.082736\n",
       "dtype: float64"
      ]
     },
     "execution_count": 36,
     "metadata": {},
     "output_type": "execute_result"
    }
   ],
   "source": [
    "res.params"
   ]
  },
  {
   "cell_type": "code",
   "execution_count": 37,
   "id": "553ec539-587c-4ab8-a6cd-7ea257469640",
   "metadata": {},
   "outputs": [
    {
     "name": "stdout",
     "output_type": "stream",
     "text": [
      "R2 0.24234555104811434\n",
      "MAE 4.500833958337007\n",
      "MSE 43.77353132334848\n"
     ]
    }
   ],
   "source": [
    "lr = LinearRegression()\n",
    "lr.fit(X, y)\n",
    "\n",
    "r2 = cross_val_score(lr, X, y, scoring = 'r2')\n",
    "mae = cross_val_score(lr, X, y, scoring = 'neg_mean_absolute_error')\n",
    "mse = cross_val_score(lr, X, y, scoring = 'neg_mean_squared_error')\n",
    "\n",
    "print('R2', r2.mean())\n",
    "print('MAE', -mae.mean())\n",
    "print('MSE', -mse.mean())"
   ]
  },
  {
   "cell_type": "markdown",
   "id": "5c6c261b-7244-4080-9cd7-7a6054c23964",
   "metadata": {},
   "source": [
    "### Заполним значения в тестовом наборе данных (test)"
   ]
  },
  {
   "cell_type": "code",
   "execution_count": 38,
   "id": "22178c07-4f39-4c05-bf58-bf0fdcc17dbf",
   "metadata": {},
   "outputs": [
    {
     "data": {
      "text/html": [
       "<div>\n",
       "<style scoped>\n",
       "    .dataframe tbody tr th:only-of-type {\n",
       "        vertical-align: middle;\n",
       "    }\n",
       "\n",
       "    .dataframe tbody tr th {\n",
       "        vertical-align: top;\n",
       "    }\n",
       "\n",
       "    .dataframe thead th {\n",
       "        text-align: right;\n",
       "    }\n",
       "</style>\n",
       "<table border=\"1\" class=\"dataframe\">\n",
       "  <thead>\n",
       "    <tr style=\"text-align: right;\">\n",
       "      <th></th>\n",
       "      <th>Площадь</th>\n",
       "      <th>Кухня площадь</th>\n",
       "    </tr>\n",
       "  </thead>\n",
       "  <tbody>\n",
       "    <tr>\n",
       "      <th>8</th>\n",
       "      <td>25.0</td>\n",
       "      <td>8.7</td>\n",
       "    </tr>\n",
       "    <tr>\n",
       "      <th>11</th>\n",
       "      <td>44.8</td>\n",
       "      <td>10.3</td>\n",
       "    </tr>\n",
       "    <tr>\n",
       "      <th>12</th>\n",
       "      <td>39.0</td>\n",
       "      <td>9.9</td>\n",
       "    </tr>\n",
       "  </tbody>\n",
       "</table>\n",
       "</div>"
      ],
      "text/plain": [
       "    Площадь  Кухня площадь\n",
       "8      25.0            8.7\n",
       "11     44.8           10.3\n",
       "12     39.0            9.9"
      ]
     },
     "execution_count": 38,
     "metadata": {},
     "output_type": "execute_result"
    }
   ],
   "source": [
    "X_test = test['Площадь']\n",
    "X_test = sm.add_constant(X_test)\n",
    "pred = lr.predict(X_test)\n",
    "\n",
    "test['Кухня площадь'] = pred\n",
    "test['Кухня площадь'] = round(test['Кухня площадь'],1)\n",
    "test.head(3)"
   ]
  },
  {
   "cell_type": "code",
   "execution_count": 39,
   "id": "d5578224-fc80-4c3c-8ec8-7f850791cd40",
   "metadata": {},
   "outputs": [
    {
     "data": {
      "text/plain": [
       "7875"
      ]
     },
     "execution_count": 39,
     "metadata": {},
     "output_type": "execute_result"
    }
   ],
   "source": [
    "df['Кухня площадь'].isna().sum()"
   ]
  },
  {
   "cell_type": "code",
   "execution_count": 40,
   "id": "9d572293-bace-4ec7-baa3-e06700726a31",
   "metadata": {},
   "outputs": [],
   "source": [
    "fill_values = test['Кухня площадь'].to_dict()\n",
    "\n",
    "for index, value in fill_values.items():\n",
    "    df.at[index, 'Кухня площадь'] = value"
   ]
  },
  {
   "cell_type": "code",
   "execution_count": 41,
   "id": "c63df3f6-ee4d-412f-bc37-853210325f05",
   "metadata": {},
   "outputs": [
    {
     "data": {
      "text/plain": [
       "0"
      ]
     },
     "execution_count": 41,
     "metadata": {},
     "output_type": "execute_result"
    }
   ],
   "source": [
    "df['Кухня площадь'].isna().sum()"
   ]
  },
  {
   "cell_type": "markdown",
   "id": "2698da08-9b47-4a44-9c87-d4ad8ec9ae9e",
   "metadata": {},
   "source": [
    "    В итоге мы заполнили пропуски в столбце площадь кухни с помощью модели линейной регрессии\n",
    "    В результате у нас не осталось пропусков в данном столбце \n"
   ]
  },
  {
   "cell_type": "markdown",
   "id": "40ee4e42-1680-4481-9faf-0da58bd512e5",
   "metadata": {},
   "source": [
    "## Заполнение пропусков в Количество этажей"
   ]
  },
  {
   "cell_type": "markdown",
   "id": "fe6cef6b-b68f-4d60-8493-d12c7e6e1a6e",
   "metadata": {},
   "source": [
    "    Количество этажей заполним по среднему значению этажей для каждого метро\n",
    "    То есть посчитаем среднее значение высоты зданий на каждом метро \n",
    "    Округлим по правилам математики\n",
    "    Заполним значения "
   ]
  },
  {
   "cell_type": "code",
   "execution_count": 42,
   "id": "159e712e-567b-4121-93d8-da8b58505f1a",
   "metadata": {},
   "outputs": [
    {
     "data": {
      "text/html": [
       "<div>\n",
       "<style scoped>\n",
       "    .dataframe tbody tr th:only-of-type {\n",
       "        vertical-align: middle;\n",
       "    }\n",
       "\n",
       "    .dataframe tbody tr th {\n",
       "        vertical-align: top;\n",
       "    }\n",
       "\n",
       "    .dataframe thead th {\n",
       "        text-align: right;\n",
       "    }\n",
       "</style>\n",
       "<table border=\"1\" class=\"dataframe\">\n",
       "  <thead>\n",
       "    <tr style=\"text-align: right;\">\n",
       "      <th></th>\n",
       "      <th>Количество этажей</th>\n",
       "    </tr>\n",
       "  </thead>\n",
       "  <tbody>\n",
       "    <tr>\n",
       "      <th>Авиамоторная</th>\n",
       "      <td>21</td>\n",
       "    </tr>\n",
       "    <tr>\n",
       "      <th>Автозаводская</th>\n",
       "      <td>12</td>\n",
       "    </tr>\n",
       "    <tr>\n",
       "      <th>Академическая</th>\n",
       "      <td>15</td>\n",
       "    </tr>\n",
       "    <tr>\n",
       "      <th>Александровский сад</th>\n",
       "      <td>7</td>\n",
       "    </tr>\n",
       "    <tr>\n",
       "      <th>Алексеевская</th>\n",
       "      <td>16</td>\n",
       "    </tr>\n",
       "  </tbody>\n",
       "</table>\n",
       "</div>"
      ],
      "text/plain": [
       "                      Количество этажей\n",
       " Авиамоторная                        21\n",
       " Автозаводская                       12\n",
       " Академическая                       15\n",
       " Александровский сад                  7\n",
       " Алексеевская                        16"
      ]
     },
     "execution_count": 42,
     "metadata": {},
     "output_type": "execute_result"
    }
   ],
   "source": [
    "# Создаем набор данных для заполняние значений NaN\n",
    "number_floors = df.groupby('Станция метро').agg({'Количество этажей' : 'mean'})\n",
    "number_floors.index.name = None\n",
    "number_floors = number_floors[number_floors['Количество этажей'].notna()]\n",
    "number_floors['Количество этажей'] = number_floors['Количество этажей'].astype('float')\n",
    "number_floors['Количество этажей'] = round(number_floors['Количество этажей'],0)\n",
    "number_floors['Количество этажей'] = number_floors['Количество этажей'].astype('int')\n",
    "number_floors.head()"
   ]
  },
  {
   "cell_type": "code",
   "execution_count": 43,
   "id": "63078844-c957-43c8-ae3e-bb6ea16d15ff",
   "metadata": {},
   "outputs": [],
   "source": [
    "mean_number_floors = int(round(df[df['Количество этажей'].notna()]['Количество этажей'].mean(),0))"
   ]
  },
  {
   "cell_type": "code",
   "execution_count": 44,
   "id": "f01daa65-3930-43c7-8b9f-c1646f3120d1",
   "metadata": {},
   "outputs": [],
   "source": [
    "# Создадим набор данных в котором все значения столбца Количество этажей равны NaN\n",
    "nan = df[df['Количество этажей'].isna()]\n",
    "# Создаем список с уникальными значениями станций\n",
    "station = list(nan['Станция метро'].unique())\n",
    "\n",
    "\n",
    "for i in station:\n",
    "    # Если станция метро есть в списке number_floors то заполняем этим значением\n",
    "    try:\n",
    "        nan.loc[nan['Станция метро'] == i, 'Количество этажей'] = \\\n",
    "        nan.loc[nan['Станция метро'] == i, 'Количество этажей'].fillna(number_floors.loc[i][0])  \n",
    "    # Если нет такой станции метро, то заполняем средним значением по всему набору данных\n",
    "    except:\n",
    "        nan.loc[nan['Станция метро'] == i, 'Количество этажей'] = \\\n",
    "        nan.loc[nan['Станция метро'] == i, 'Количество этажей'].fillna(mean_number_floors)"
   ]
  },
  {
   "cell_type": "code",
   "execution_count": 45,
   "id": "fa39e21f-f9f7-4710-a9f3-470c30b94053",
   "metadata": {},
   "outputs": [
    {
     "data": {
      "text/plain": [
       "5041    10\n",
       "5267    16\n",
       "5443    16\n",
       "5526    11\n",
       "5680    12\n",
       "Name: Количество этажей, dtype: object"
      ]
     },
     "execution_count": 45,
     "metadata": {},
     "output_type": "execute_result"
    }
   ],
   "source": [
    "# Оставляем только Количество этажей для заполнения\n",
    "fill = nan['Количество этажей']\n",
    "fill.head()"
   ]
  },
  {
   "cell_type": "code",
   "execution_count": 46,
   "id": "e6efe130-35fb-4b23-8e74-44308d9d510c",
   "metadata": {},
   "outputs": [],
   "source": [
    "# Создаем словарь для заполнения \n",
    "fill_values = fill.to_dict()\n",
    "# Заполняем значениями из словаря\n",
    "for index, value in fill_values.items():\n",
    "    df.at[index, 'Количество этажей'] = value"
   ]
  },
  {
   "cell_type": "code",
   "execution_count": 47,
   "id": "ba8f9d6a-02fa-4d10-ae94-c2184cfe8790",
   "metadata": {},
   "outputs": [],
   "source": [
    "# Меняем тип данных на числовой\n",
    "df['Количество этажей'] = df['Количество этажей'].astype('int')"
   ]
  },
  {
   "cell_type": "code",
   "execution_count": 48,
   "id": "408f93a8-e974-4e54-975d-76d2d1c14240",
   "metadata": {},
   "outputs": [
    {
     "name": "stderr",
     "output_type": "stream",
     "text": [
      "/Library/Frameworks/Python.framework/Versions/3.11/lib/python3.11/site-packages/pandas/io/formats/style.py:3851: RuntimeWarning: invalid value encountered in double_scalars\n",
      "  end = (x - left) / (right - left)\n"
     ]
    },
    {
     "data": {
      "text/html": [
       "<style type=\"text/css\">\n",
       "#T_f37d4_row0_col2, #T_f37d4_row1_col2, #T_f37d4_row2_col2, #T_f37d4_row3_col2, #T_f37d4_row4_col2, #T_f37d4_row5_col2, #T_f37d4_row6_col2, #T_f37d4_row7_col2, #T_f37d4_row8_col2, #T_f37d4_row9_col2, #T_f37d4_row10_col2, #T_f37d4_row11_col2, #T_f37d4_row12_col2, #T_f37d4_row13_col2 {\n",
       "  width: 10em;\n",
       "}\n",
       "</style>\n",
       "<table id=\"T_f37d4\">\n",
       "  <thead>\n",
       "    <tr>\n",
       "      <th class=\"blank level0\" >&nbsp;</th>\n",
       "      <th id=\"T_f37d4_level0_col0\" class=\"col_heading level0 col0\" >dtypes</th>\n",
       "      <th id=\"T_f37d4_level0_col1\" class=\"col_heading level0 col1\" >isna</th>\n",
       "      <th id=\"T_f37d4_level0_col2\" class=\"col_heading level0 col2\" >isna%</th>\n",
       "    </tr>\n",
       "  </thead>\n",
       "  <tbody>\n",
       "    <tr>\n",
       "      <th id=\"T_f37d4_level0_row0\" class=\"row_heading level0 row0\" >Цена</th>\n",
       "      <td id=\"T_f37d4_row0_col0\" class=\"data row0 col0\" >float64</td>\n",
       "      <td id=\"T_f37d4_row0_col1\" class=\"data row0 col1\" >0</td>\n",
       "      <td id=\"T_f37d4_row0_col2\" class=\"data row0 col2\" >0.000000</td>\n",
       "    </tr>\n",
       "    <tr>\n",
       "      <th id=\"T_f37d4_level0_row1\" class=\"row_heading level0 row1\" >Станция метро</th>\n",
       "      <td id=\"T_f37d4_row1_col0\" class=\"data row1 col0\" >object</td>\n",
       "      <td id=\"T_f37d4_row1_col1\" class=\"data row1 col1\" >0</td>\n",
       "      <td id=\"T_f37d4_row1_col2\" class=\"data row1 col2\" >0.000000</td>\n",
       "    </tr>\n",
       "    <tr>\n",
       "      <th id=\"T_f37d4_level0_row2\" class=\"row_heading level0 row2\" >Минут до метро</th>\n",
       "      <td id=\"T_f37d4_row2_col0\" class=\"data row2 col0\" >float64</td>\n",
       "      <td id=\"T_f37d4_row2_col1\" class=\"data row2 col1\" >0</td>\n",
       "      <td id=\"T_f37d4_row2_col2\" class=\"data row2 col2\" >0.000000</td>\n",
       "    </tr>\n",
       "    <tr>\n",
       "      <th id=\"T_f37d4_level0_row3\" class=\"row_heading level0 row3\" >Регион</th>\n",
       "      <td id=\"T_f37d4_row3_col0\" class=\"data row3 col0\" >object</td>\n",
       "      <td id=\"T_f37d4_row3_col1\" class=\"data row3 col1\" >0</td>\n",
       "      <td id=\"T_f37d4_row3_col2\" class=\"data row3 col2\" >0.000000</td>\n",
       "    </tr>\n",
       "    <tr>\n",
       "      <th id=\"T_f37d4_level0_row4\" class=\"row_heading level0 row4\" >Адрес</th>\n",
       "      <td id=\"T_f37d4_row4_col0\" class=\"data row4 col0\" >object</td>\n",
       "      <td id=\"T_f37d4_row4_col1\" class=\"data row4 col1\" >0</td>\n",
       "      <td id=\"T_f37d4_row4_col2\" class=\"data row4 col2\" >0.000000</td>\n",
       "    </tr>\n",
       "    <tr>\n",
       "      <th id=\"T_f37d4_level0_row5\" class=\"row_heading level0 row5\" >Количество комнат</th>\n",
       "      <td id=\"T_f37d4_row5_col0\" class=\"data row5 col0\" >float64</td>\n",
       "      <td id=\"T_f37d4_row5_col1\" class=\"data row5 col1\" >0</td>\n",
       "      <td id=\"T_f37d4_row5_col2\" class=\"data row5 col2\" >0.000000</td>\n",
       "    </tr>\n",
       "    <tr>\n",
       "      <th id=\"T_f37d4_level0_row6\" class=\"row_heading level0 row6\" >Площадь</th>\n",
       "      <td id=\"T_f37d4_row6_col0\" class=\"data row6 col0\" >float64</td>\n",
       "      <td id=\"T_f37d4_row6_col1\" class=\"data row6 col1\" >0</td>\n",
       "      <td id=\"T_f37d4_row6_col2\" class=\"data row6 col2\" >0.000000</td>\n",
       "    </tr>\n",
       "    <tr>\n",
       "      <th id=\"T_f37d4_level0_row7\" class=\"row_heading level0 row7\" >Жилая площадь</th>\n",
       "      <td id=\"T_f37d4_row7_col0\" class=\"data row7 col0\" >float64</td>\n",
       "      <td id=\"T_f37d4_row7_col1\" class=\"data row7 col1\" >0</td>\n",
       "      <td id=\"T_f37d4_row7_col2\" class=\"data row7 col2\" >0.000000</td>\n",
       "    </tr>\n",
       "    <tr>\n",
       "      <th id=\"T_f37d4_level0_row8\" class=\"row_heading level0 row8\" >Кухня площадь</th>\n",
       "      <td id=\"T_f37d4_row8_col0\" class=\"data row8 col0\" >float64</td>\n",
       "      <td id=\"T_f37d4_row8_col1\" class=\"data row8 col1\" >0</td>\n",
       "      <td id=\"T_f37d4_row8_col2\" class=\"data row8 col2\" >0.000000</td>\n",
       "    </tr>\n",
       "    <tr>\n",
       "      <th id=\"T_f37d4_level0_row9\" class=\"row_heading level0 row9\" >Этаж</th>\n",
       "      <td id=\"T_f37d4_row9_col0\" class=\"data row9 col0\" >float64</td>\n",
       "      <td id=\"T_f37d4_row9_col1\" class=\"data row9 col1\" >0</td>\n",
       "      <td id=\"T_f37d4_row9_col2\" class=\"data row9 col2\" >0.000000</td>\n",
       "    </tr>\n",
       "    <tr>\n",
       "      <th id=\"T_f37d4_level0_row10\" class=\"row_heading level0 row10\" >Количество этажей</th>\n",
       "      <td id=\"T_f37d4_row10_col0\" class=\"data row10 col0\" >int64</td>\n",
       "      <td id=\"T_f37d4_row10_col1\" class=\"data row10 col1\" >0</td>\n",
       "      <td id=\"T_f37d4_row10_col2\" class=\"data row10 col2\" >0.000000</td>\n",
       "    </tr>\n",
       "    <tr>\n",
       "      <th id=\"T_f37d4_level0_row11\" class=\"row_heading level0 row11\" >Ремонт</th>\n",
       "      <td id=\"T_f37d4_row11_col0\" class=\"data row11 col0\" >object</td>\n",
       "      <td id=\"T_f37d4_row11_col1\" class=\"data row11 col1\" >0</td>\n",
       "      <td id=\"T_f37d4_row11_col2\" class=\"data row11 col2\" >0.000000</td>\n",
       "    </tr>\n",
       "    <tr>\n",
       "      <th id=\"T_f37d4_level0_row12\" class=\"row_heading level0 row12\" >Ссылка</th>\n",
       "      <td id=\"T_f37d4_row12_col0\" class=\"data row12 col0\" >object</td>\n",
       "      <td id=\"T_f37d4_row12_col1\" class=\"data row12 col1\" >0</td>\n",
       "      <td id=\"T_f37d4_row12_col2\" class=\"data row12 col2\" >0.000000</td>\n",
       "    </tr>\n",
       "    <tr>\n",
       "      <th id=\"T_f37d4_level0_row13\" class=\"row_heading level0 row13\" >Тип квартиры</th>\n",
       "      <td id=\"T_f37d4_row13_col0\" class=\"data row13 col0\" >object</td>\n",
       "      <td id=\"T_f37d4_row13_col1\" class=\"data row13 col1\" >0</td>\n",
       "      <td id=\"T_f37d4_row13_col2\" class=\"data row13 col2\" >0.000000</td>\n",
       "    </tr>\n",
       "  </tbody>\n",
       "</table>\n"
      ],
      "text/plain": [
       "<pandas.io.formats.style.Styler at 0x129be3490>"
      ]
     },
     "execution_count": 48,
     "metadata": {},
     "output_type": "execute_result"
    }
   ],
   "source": [
    "info_df(df)"
   ]
  },
  {
   "cell_type": "code",
   "execution_count": 49,
   "id": "e0019f46-9d0a-42ea-b525-d57c90da838e",
   "metadata": {},
   "outputs": [
    {
     "data": {
      "text/html": [
       "<div>\n",
       "<style scoped>\n",
       "    .dataframe tbody tr th:only-of-type {\n",
       "        vertical-align: middle;\n",
       "    }\n",
       "\n",
       "    .dataframe tbody tr th {\n",
       "        vertical-align: top;\n",
       "    }\n",
       "\n",
       "    .dataframe thead th {\n",
       "        text-align: right;\n",
       "    }\n",
       "</style>\n",
       "<table border=\"1\" class=\"dataframe\">\n",
       "  <thead>\n",
       "    <tr style=\"text-align: right;\">\n",
       "      <th></th>\n",
       "      <th>Цена</th>\n",
       "      <th>Тип квартиры</th>\n",
       "      <th>Станция метро</th>\n",
       "      <th>Минут до метро</th>\n",
       "      <th>Регион</th>\n",
       "      <th>Адрес</th>\n",
       "      <th>Количество комнат</th>\n",
       "      <th>Площадь</th>\n",
       "      <th>Жилая площадь</th>\n",
       "      <th>Кухня площадь</th>\n",
       "      <th>Этаж</th>\n",
       "      <th>Количество этажей</th>\n",
       "      <th>Ремонт</th>\n",
       "      <th>Ссылка</th>\n",
       "    </tr>\n",
       "  </thead>\n",
       "  <tbody>\n",
       "    <tr>\n",
       "      <th>0</th>\n",
       "      <td>6300000.0</td>\n",
       "      <td>Вторичное</td>\n",
       "      <td>Опалиха</td>\n",
       "      <td>6.0</td>\n",
       "      <td>Московская область</td>\n",
       "      <td>Московская Красногорский район Красногорск Изу...</td>\n",
       "      <td>1.0</td>\n",
       "      <td>30.6</td>\n",
       "      <td>11.1</td>\n",
       "      <td>8.5</td>\n",
       "      <td>25.0</td>\n",
       "      <td>25</td>\n",
       "      <td>Косметический</td>\n",
       "      <td>https://www.cian.ru/sale/flat/289238903</td>\n",
       "    </tr>\n",
       "    <tr>\n",
       "      <th>2</th>\n",
       "      <td>9000000.0</td>\n",
       "      <td>Вторичное</td>\n",
       "      <td>Павшино</td>\n",
       "      <td>2.0</td>\n",
       "      <td>Московская область</td>\n",
       "      <td>Московская Красногорский район Красногорск Иль...</td>\n",
       "      <td>1.0</td>\n",
       "      <td>49.2</td>\n",
       "      <td>20.0</td>\n",
       "      <td>10.0</td>\n",
       "      <td>6.0</td>\n",
       "      <td>15</td>\n",
       "      <td>Евроремонт</td>\n",
       "      <td>https://www.cian.ru/sale/flat/292849723</td>\n",
       "    </tr>\n",
       "    <tr>\n",
       "      <th>3</th>\n",
       "      <td>11090000.0</td>\n",
       "      <td>Вторичное</td>\n",
       "      <td>Мякинино</td>\n",
       "      <td>14.0</td>\n",
       "      <td>Московская область</td>\n",
       "      <td>Московская Красногорский район Красногорск бул...</td>\n",
       "      <td>1.0</td>\n",
       "      <td>44.7</td>\n",
       "      <td>16.2</td>\n",
       "      <td>13.1</td>\n",
       "      <td>10.0</td>\n",
       "      <td>25</td>\n",
       "      <td>Косметический</td>\n",
       "      <td>https://www.cian.ru/sale/flat/290714580</td>\n",
       "    </tr>\n",
       "  </tbody>\n",
       "</table>\n",
       "</div>"
      ],
      "text/plain": [
       "         Цена Тип квартиры Станция метро  Минут до метро              Регион  \\\n",
       "0   6300000.0    Вторичное       Опалиха             6.0  Московская область   \n",
       "2   9000000.0    Вторичное       Павшино             2.0  Московская область   \n",
       "3  11090000.0    Вторичное      Мякинино            14.0  Московская область   \n",
       "\n",
       "                                               Адрес  Количество комнат  \\\n",
       "0  Московская Красногорский район Красногорск Изу...                1.0   \n",
       "2  Московская Красногорский район Красногорск Иль...                1.0   \n",
       "3  Московская Красногорский район Красногорск бул...                1.0   \n",
       "\n",
       "   Площадь  Жилая площадь  Кухня площадь  Этаж  Количество этажей  \\\n",
       "0     30.6           11.1            8.5  25.0                 25   \n",
       "2     49.2           20.0           10.0   6.0                 15   \n",
       "3     44.7           16.2           13.1  10.0                 25   \n",
       "\n",
       "          Ремонт                                   Ссылка  \n",
       "0  Косметический  https://www.cian.ru/sale/flat/289238903  \n",
       "2     Евроремонт  https://www.cian.ru/sale/flat/292849723  \n",
       "3  Косметический  https://www.cian.ru/sale/flat/290714580  "
      ]
     },
     "execution_count": 49,
     "metadata": {},
     "output_type": "execute_result"
    }
   ],
   "source": [
    "df = df[['Цена', 'Тип квартиры', 'Станция метро', 'Минут до метро', 'Регион', 'Адрес',\n",
    "       'Количество комнат', 'Площадь', 'Жилая площадь', 'Кухня площадь',\n",
    "       'Этаж', 'Количество этажей', 'Ремонт', 'Ссылка']]\n",
    "df.head(3)"
   ]
  },
  {
   "cell_type": "code",
   "execution_count": 50,
   "id": "55644d6a-be18-4f72-983c-877871725853",
   "metadata": {},
   "outputs": [],
   "source": [
    "df.to_csv('Цены на недвижимость без пропусков.csv', index=False)"
   ]
  }
 ],
 "metadata": {
  "kernelspec": {
   "display_name": "Python 3 (ipykernel)",
   "language": "python",
   "name": "python3"
  },
  "language_info": {
   "codemirror_mode": {
    "name": "ipython",
    "version": 3
   },
   "file_extension": ".py",
   "mimetype": "text/x-python",
   "name": "python",
   "nbconvert_exporter": "python",
   "pygments_lexer": "ipython3",
   "version": "3.11.5"
  }
 },
 "nbformat": 4,
 "nbformat_minor": 5
}
